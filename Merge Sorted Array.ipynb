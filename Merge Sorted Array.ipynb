{
 "cells": [
  {
   "cell_type": "code",
   "execution_count": 1,
   "metadata": {},
   "outputs": [],
   "source": [
    "class Solution(object):\n",
    "    def merge(self, nums1, m, nums2, n):\n",
    "        i = int(m - 1)\n",
    "        j = int(n - 1)\n",
    "        k = int(m + n - 1)\n",
    "        \n",
    "        while (k >= 0):\n",
    "            if i>=0 and j>=0:\n",
    "                if(nums2[j] > nums1[i]):\n",
    "                    nums1[k] = nums2[j]\n",
    "                    k -= 1\n",
    "                    j -= 1\n",
    "                else:\n",
    "                    nums1[k] = nums1[i]\n",
    "                    k -= 1\n",
    "                    i -= 1\n",
    "            elif j >= 0:\n",
    "                nums1[k] = nums2[j]\n",
    "                k -= 1\n",
    "                j -= 1\n",
    "            else:\n",
    "                break"
   ]
  },
  {
   "cell_type": "code",
   "execution_count": null,
   "metadata": {},
   "outputs": [],
   "source": []
  }
 ],
 "metadata": {
  "kernelspec": {
   "display_name": "Python 3",
   "language": "python",
   "name": "python3"
  },
  "language_info": {
   "codemirror_mode": {
    "name": "ipython",
    "version": 3
   },
   "file_extension": ".py",
   "mimetype": "text/x-python",
   "name": "python",
   "nbconvert_exporter": "python",
   "pygments_lexer": "ipython3",
   "version": "3.8.3"
  }
 },
 "nbformat": 4,
 "nbformat_minor": 4
}
