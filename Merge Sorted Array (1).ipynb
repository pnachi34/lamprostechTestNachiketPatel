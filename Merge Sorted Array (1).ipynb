{
 "cells": [
  {
   "cell_type": "code",
   "execution_count": 3,
   "metadata": {},
   "outputs": [
    {
     "name": "stdout",
     "output_type": "stream",
     "text": [
      "Array after merging\n",
      "0 0 0 1 2 2 3 5 6 "
     ]
    }
   ],
   "source": [
    "# Python program to merge two sorted arrays\n",
    "# using maps\n",
    "import bisect\n",
    "\n",
    "# Function to merge arrays\n",
    "def mergeArrays(nums1, nums2, m, n):\n",
    "\t# Declaring a map.\n",
    "\t# using map as a inbuilt tool\n",
    "\t# to store elements in sorted order.\n",
    "\tmp=[]\n",
    "\n",
    "\t# Inserting values to a map.\n",
    "\tfor i in range(m):\n",
    "\t\tbisect.insort(mp, nums1[i])\n",
    "\n",
    "\tfor i in range(n):\n",
    "\t\tbisect.insort(mp, nums2[i])\n",
    "\n",
    "\t# Printing keys of the map.\n",
    "\tprint(\"Array after merging\")\n",
    "\tfor i in mp:\n",
    "\t\tprint(i,end=' ')\n",
    "\n",
    "# Driver code\n",
    "nums1 = [1, 2, 3, 0, 0, 0]\n",
    "nums2 = [2, 5, 6]\n",
    "size = len(nums1)\n",
    "size1 = len(nums2)\n",
    "\n",
    "# Function call\n",
    "mergeArrays(nums1, nums2, size, size1)\n"
   ]
  },
  {
   "cell_type": "code",
   "execution_count": null,
   "metadata": {},
   "outputs": [],
   "source": []
  }
 ],
 "metadata": {
  "kernelspec": {
   "display_name": "Python 3",
   "language": "python",
   "name": "python3"
  },
  "language_info": {
   "codemirror_mode": {
    "name": "ipython",
    "version": 3
   },
   "file_extension": ".py",
   "mimetype": "text/x-python",
   "name": "python",
   "nbconvert_exporter": "python",
   "pygments_lexer": "ipython3",
   "version": "3.8.3"
  }
 },
 "nbformat": 4,
 "nbformat_minor": 4
}
