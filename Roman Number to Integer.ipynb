{
 "cells": [
  {
   "cell_type": "code",
   "execution_count": 2,
   "metadata": {},
   "outputs": [],
   "source": [
    "def romanToInt(s: str) -> int:\n",
    "    # Dictionaryof roman numerals\n",
    "    roman_map = {'I': 1, 'V': 5, 'X': 10, 'L': 50, 'C': 100, 'D': 500, 'M': 1000}\n",
    "    # Length of the given string\n",
    "    n = lens(s)\n",
    "    # This variable will store result\n",
    "    num = roman_map[s[n - 1]]\n",
    "    # loop for each character from right to left\n",
    "    for i in range(n - 2, -1, -1):\n",
    "        # Check if the character at right of current character is bigger or smaller\n",
    "        if roman_map[s[i]] >= roman_map[s[i + 1]]:\n",
    "            num += roman_map[s[i]]\n",
    "        else:\n",
    "            num -= roman_map[s[i]]\n",
    "        return num"
   ]
  },
  {
   "cell_type": "code",
   "execution_count": null,
   "metadata": {},
   "outputs": [],
   "source": []
  },
  {
   "cell_type": "code",
   "execution_count": null,
   "metadata": {},
   "outputs": [],
   "source": []
  }
 ],
 "metadata": {
  "kernelspec": {
   "display_name": "Python 3",
   "language": "python",
   "name": "python3"
  },
  "language_info": {
   "codemirror_mode": {
    "name": "ipython",
    "version": 3
   },
   "file_extension": ".py",
   "mimetype": "text/x-python",
   "name": "python",
   "nbconvert_exporter": "python",
   "pygments_lexer": "ipython3",
   "version": "3.8.3"
  }
 },
 "nbformat": 4,
 "nbformat_minor": 4
}
